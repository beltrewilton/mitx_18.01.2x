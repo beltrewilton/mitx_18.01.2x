{
 "cells": [
  {
   "cell_type": "code",
   "execution_count": 52,
   "metadata": {},
   "outputs": [],
   "source": [
    "from sympy import *\n",
    "from sympy.abc import x, y, e\n",
    "init_printing(use_unicode=True)\n"
   ]
  },
  {
   "cell_type": "code",
   "execution_count": 48,
   "metadata": {},
   "outputs": [
    {
     "data": {
      "image/png": "[encoded data removed]",
      "text/latex": [
       "$\\displaystyle x^{7} + \\sin{\\left(x \\right)}$"
      ],
      "text/plain": [
       " 7         \n",
       "x  + sin(x)"
      ]
     },
     "metadata": {},
     "output_type": "display_data"
    },
    {
     "data": {
      "image/png": "[encoded data removed]",
      "text/latex": [
       "$\\displaystyle 7 x^{6} + \\cos{\\left(x \\right)}$"
      ],
      "text/plain": [
       "   6         \n",
       "7⋅x  + cos(x)"
      ]
     },
     "metadata": {},
     "output_type": "display_data"
    }
   ],
   "source": [
    "a1 = (x**7 + sin(x))\n",
    "display(a1)\n",
    "display(a1.diff())"
   ]
  },
  {
   "cell_type": "code",
   "execution_count": 50,
   "metadata": {},
   "outputs": [
    {
     "data": {
      "image/png": "[encoded data removed]",
      "text/latex": [
       "$\\displaystyle \\sqrt{x}$"
      ],
      "text/plain": [
       "√x"
      ]
     },
     "metadata": {},
     "output_type": "display_data"
    },
    {
     "data": {
      "image/png": "[encoded data removed]",
      "text/latex": [
       "$\\displaystyle \\frac{1}{2 \\sqrt{x}}$"
      ],
      "text/plain": [
       " 1  \n",
       "────\n",
       "2⋅√x"
      ]
     },
     "metadata": {},
     "output_type": "display_data"
    }
   ],
   "source": [
    "a2 = sqrt(x)\n",
    "display(a2)\n",
    "display(a2.diff())"
   ]
  },
  {
   "cell_type": "code",
   "execution_count": 58,
   "metadata": {},
   "outputs": [
    {
     "data": {
      "image/png": "[encoded data removed]",
      "text/latex": [
       "$\\displaystyle e^{3 x} \\sin{\\left(x \\right)}$"
      ],
      "text/plain": [
       " 3⋅x       \n",
       "e   ⋅sin(x)"
      ]
     },
     "metadata": {},
     "output_type": "display_data"
    },
    {
     "data": {
      "image/png": "[encoded data removed]",
      "text/latex": [
       "$\\displaystyle e^{3 x} \\left(3 \\log{\\left(e \\right)} \\sin{\\left(x \\right)} + \\cos{\\left(x \\right)}\\right)$"
      ],
      "text/plain": [
       " 3⋅x                           \n",
       "e   ⋅(3⋅log(e)⋅sin(x) + cos(x))"
      ]
     },
     "metadata": {},
     "output_type": "display_data"
    }
   ],
   "source": [
    "a3 = e**(3*x)*sin(x)\n",
    "display(a3)\n",
    "display(a3.diff(x).factor())"
   ]
  },
  {
   "cell_type": "code",
   "execution_count": 69,
   "metadata": {},
   "outputs": [
    {
     "data": {
      "image/png": "[encoded data removed]",
      "text/latex": [
       "$\\displaystyle \\sqrt{x} + \\sqrt{y} = 1$"
      ],
      "text/plain": [
       "√x + √y = 1"
      ]
     },
     "metadata": {},
     "output_type": "display_data"
    },
    {
     "data": {
      "image/png": "[encoded data removed]",
      "text/latex": [
       "$\\displaystyle \\frac{\\partial^{2}}{\\partial x\\partial y} \\sqrt{x} + \\sqrt{y} = 1$"
      ],
      "text/plain": [
       "   2              \n",
       "  ∂               \n",
       "─────(√x + √y = 1)\n",
       "∂x ∂y             "
      ]
     },
     "metadata": {},
     "output_type": "display_data"
    }
   ],
   "source": [
    "a4 = Eq(sqrt(x) + sqrt(y), 1)\n",
    "display(a4)\n",
    "display(Derivative(a4, y, x))"
   ]
  },
  {
   "cell_type": "code",
   "execution_count": 73,
   "metadata": {},
   "outputs": [
    {
     "data": {
      "image/png": "[encoded data removed]",
      "text/latex": [
       "$\\displaystyle 2 x^{4} + 3 x^{2} + x + 8$"
      ],
      "text/plain": [
       "   4      2        \n",
       "2⋅x  + 3⋅x  + x + 8"
      ]
     },
     "metadata": {},
     "output_type": "display_data"
    },
    {
     "data": {
      "image/png": "[encoded data removed]",
      "text/latex": [
       "$\\displaystyle \\frac{2 x^{5}}{5} + x^{3} + \\frac{x^{2}}{2} + 8 x$"
      ],
      "text/plain": [
       "   5         2      \n",
       "2⋅x     3   x       \n",
       "──── + x  + ── + 8⋅x\n",
       " 5          2       "
      ]
     },
     "metadata": {},
     "output_type": "display_data"
    }
   ],
   "source": [
    "a5 = (2*x**4 + 3*x**2 + x + 8)\n",
    "display(a5)\n",
    "display(integrate(a5))"
   ]
  },
  {
   "cell_type": "code",
   "execution_count": 80,
   "metadata": {},
   "outputs": [
    {
     "data": {
      "image/png": "[encoded data removed]",
      "text/latex": [
       "$\\displaystyle \\sqrt{x} + \\frac{1}{\\sqrt{x}}$"
      ],
      "text/plain": [
       "     1 \n",
       "√x + ──\n",
       "     √x"
      ]
     },
     "metadata": {},
     "output_type": "display_data"
    },
    {
     "data": {
      "image/png": "[encoded data removed]",
      "text/latex": [
       "$\\displaystyle \\frac{2 x^{\\frac{3}{2}}}{3} + 2 \\sqrt{x}$"
      ],
      "text/plain": [
       "   3/2       \n",
       "2⋅x          \n",
       "────── + 2⋅√x\n",
       "  3          "
      ]
     },
     "metadata": {},
     "output_type": "display_data"
    }
   ],
   "source": [
    "a6 = (sqrt(x) + 1/sqrt(x))\n",
    "display(a6)\n",
    "display(integrate(a6))"
   ]
  },
  {
   "cell_type": "code",
   "execution_count": null,
   "metadata": {},
   "outputs": [
    {
     "data": {
      "image/png": "[encoded data removed]",
      "text/latex": [
       "$\\displaystyle \\sqrt[8]{x^{3} \\left(1 - 12 x^{4}\\right)}$"
      ],
      "text/plain": [
       "   ________________\n",
       "8 ╱  3 ⎛        4⎞ \n",
       "╲╱  x ⋅⎝1 - 12⋅x ⎠ "
      ]
     },
     "metadata": {},
     "output_type": "display_data"
    }
   ],
   "source": [
    "a7 = (x**3*(1-12*x**4))**Rational(1/8)\n",
    "display(a7)\n",
    "display(integrate(a7))"
   ]
  },
  {
   "cell_type": "code",
   "execution_count": null,
   "metadata": {},
   "outputs": [],
   "source": [
    "a8 = (x/(sqrt(8-2*x**2)))\n",
    "display(a8)\n",
    "display(integrate(a8))"
   ]
  },
  {
   "cell_type": "code",
   "execution_count": null,
   "metadata": {},
   "outputs": [],
   "source": []
  }
 ],
 "metadata": {
  "kernelspec": {
   "display_name": "Python 3",
   "language": "python",
   "name": "python3"
  },
  "language_info": {
   "codemirror_mode": {
    "name": "ipython",
    "version": 3
   },
   "file_extension": ".py",
   "mimetype": "text/x-python",
   "name": "python",
   "nbconvert_exporter": "python",
   "pygments_lexer": "ipython3",
   "version": "3.8.5"
  }
 },
 "nbformat": 4,
 "nbformat_minor": 4
}
