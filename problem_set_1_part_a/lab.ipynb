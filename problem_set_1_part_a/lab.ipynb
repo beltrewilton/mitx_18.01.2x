{
 "cells": [
  {
   "cell_type": "code",
   "execution_count": 2,
   "metadata": {},
   "outputs": [],
   "source": [
    "from sympy import *\n",
    "from sympy.abc import x, y, e\n",
    "init_printing(use_unicode=True)\n"
   ]
  },
  {
   "cell_type": "code",
   "execution_count": 48,
   "metadata": {},
   "outputs": [
    {
     "data": {
      "image/png": "[encoded data removed]",
      "text/latex": [
       "$\\displaystyle x^{7} + \\sin{\\left(x \\right)}$"
      ],
      "text/plain": [
       " 7         \n",
       "x  + sin(x)"
      ]
     },
     "metadata": {},
     "output_type": "display_data"
    },
    {
     "data": {
      "image/png": "[encoded data removed]",
      "text/latex": [
       "$\\displaystyle 7 x^{6} + \\cos{\\left(x \\right)}$"
      ],
      "text/plain": [
       "   6         \n",
       "7⋅x  + cos(x)"
      ]
     },
     "metadata": {},
     "output_type": "display_data"
    }
   ],
   "source": [
    "a1 = (x**7 + sin(x))\n",
    "display(a1)\n",
    "display(a1.diff())"
   ]
  },
  {
   "cell_type": "code",
   "execution_count": 50,
   "metadata": {},
   "outputs": [
    {
     "data": {
      "image/png": "[encoded data removed]",
      "text/latex": [
       "$\\displaystyle \\sqrt{x}$"
      ],
      "text/plain": [
       "√x"
      ]
     },
     "metadata": {},
     "output_type": "display_data"
    },
    {
     "data": {
      "image/png": "[encoded data removed]",
      "text/latex": [
       "$\\displaystyle \\frac{1}{2 \\sqrt{x}}$"
      ],
      "text/plain": [
       " 1  \n",
       "────\n",
       "2⋅√x"
      ]
     },
     "metadata": {},
     "output_type": "display_data"
    }
   ],
   "source": [
    "a2 = sqrt(x)\n",
    "display(a2)\n",
    "display(a2.diff())"
   ]
  },
  {
   "cell_type": "code",
   "execution_count": 58,
   "metadata": {},
   "outputs": [
    {
     "data": {
      "image/png": "[encoded data removed]",
      "text/latex": [
       "$\\displaystyle e^{3 x} \\sin{\\left(x \\right)}$"
      ],
      "text/plain": [
       " 3⋅x       \n",
       "e   ⋅sin(x)"
      ]
     },
     "metadata": {},
     "output_type": "display_data"
    },
    {
     "data": {
      "image/png": "[encoded data removed]",
      "text/latex": [
       "$\\displaystyle e^{3 x} \\left(3 \\log{\\left(e \\right)} \\sin{\\left(x \\right)} + \\cos{\\left(x \\right)}\\right)$"
      ],
      "text/plain": [
       " 3⋅x                           \n",
       "e   ⋅(3⋅log(e)⋅sin(x) + cos(x))"
      ]
     },
     "metadata": {},
     "output_type": "display_data"
    }
   ],
   "source": [
    "a3 = e**(3*x)*sin(x)\n",
    "display(a3)\n",
    "display(a3.diff(x).factor())"
   ]
  },
  {
   "cell_type": "code",
   "execution_count": 69,
   "metadata": {},
   "outputs": [
    {
     "data": {
      "image/png": "[encoded data removed]",
      "text/latex": [
       "$\\displaystyle \\sqrt{x} + \\sqrt{y} = 1$"
      ],
      "text/plain": [
       "√x + √y = 1"
      ]
     },
     "metadata": {},
     "output_type": "display_data"
    },
    {
     "data": {
      "image/png": "[encoded data removed]",
      "text/latex": [
       "$\\displaystyle \\frac{\\partial^{2}}{\\partial x\\partial y} \\sqrt{x} + \\sqrt{y} = 1$"
      ],
      "text/plain": [
       "   2              \n",
       "  ∂               \n",
       "─────(√x + √y = 1)\n",
       "∂x ∂y             "
      ]
     },
     "metadata": {},
     "output_type": "display_data"
    }
   ],
   "source": [
    "a4 = Eq(sqrt(x) + sqrt(y), 1)\n",
    "display(a4)\n",
    "display(Derivative(a4, y, x))"
   ]
  },
  {
   "cell_type": "code",
   "execution_count": 73,
   "metadata": {},
   "outputs": [
    {
     "data": {
      "image/png": "[encoded data removed]",
      "text/latex": [
       "$\\displaystyle 2 x^{4} + 3 x^{2} + x + 8$"
      ],
      "text/plain": [
       "   4      2        \n",
       "2⋅x  + 3⋅x  + x + 8"
      ]
     },
     "metadata": {},
     "output_type": "display_data"
    },
    {
     "data": {
      "image/png": "[encoded data removed]",
      "text/latex": [
       "$\\displaystyle \\frac{2 x^{5}}{5} + x^{3} + \\frac{x^{2}}{2} + 8 x$"
      ],
      "text/plain": [
       "   5         2      \n",
       "2⋅x     3   x       \n",
       "──── + x  + ── + 8⋅x\n",
       " 5          2       "
      ]
     },
     "metadata": {},
     "output_type": "display_data"
    }
   ],
   "source": [
    "a5 = (2*x**4 + 3*x**2 + x + 8)\n",
    "display(a5)\n",
    "display(integrate(a5))"
   ]
  },
  {
   "cell_type": "code",
   "execution_count": 2,
   "metadata": {},
   "outputs": [
    {
     "data": {
      "image/png": "[encoded data removed]",
      "text/latex": [
       "$\\displaystyle \\sqrt{x} + \\frac{1}{\\sqrt{x}}$"
      ],
      "text/plain": [
       "     1 \n",
       "√x + ──\n",
       "     √x"
      ]
     },
     "metadata": {},
     "output_type": "display_data"
    },
    {
     "data": {
      "image/png": "[encoded data removed]",
      "text/latex": [
       "$\\displaystyle \\frac{2 x^{\\frac{3}{2}}}{3} + 2 \\sqrt{x}$"
      ],
      "text/plain": [
       "   3/2       \n",
       "2⋅x          \n",
       "────── + 2⋅√x\n",
       "  3          "
      ]
     },
     "metadata": {},
     "output_type": "display_data"
    }
   ],
   "source": [
    "a6 = (sqrt(x) + 1/sqrt(x))\n",
    "display(a6)\n",
    "display(integrate(a6))"
   ]
  },
  {
   "cell_type": "code",
   "execution_count": null,
   "metadata": {},
   "outputs": [
    {
     "data": {
      "image/png": "[encoded data removed]",
      "text/latex": [
       "$\\displaystyle \\sqrt[8]{x^{3} \\left(1 - 12 x^{4}\\right)}$"
      ],
      "text/plain": [
       "   ________________\n",
       "8 ╱  3 ⎛        4⎞ \n",
       "╲╱  x ⋅⎝1 - 12⋅x ⎠ "
      ]
     },
     "metadata": {},
     "output_type": "display_data"
    }
   ],
   "source": [
    "# Warning, this is a burn processor integral :\n",
    "\n",
    "a7 = (x**3*(1-12*x**4))**Rational(1/8)\n",
    "display(a7)\n",
    "display(integrate(a7))"
   ]
  },
  {
   "cell_type": "code",
   "execution_count": 3,
   "metadata": {},
   "outputs": [
    {
     "data": {
      "image/png": "[encoded data removed]",
      "text/latex": [
       "$\\displaystyle \\frac{x}{\\sqrt{8 - 2 x^{2}}}$"
      ],
      "text/plain": [
       "      x      \n",
       "─────────────\n",
       "   __________\n",
       "  ╱        2 \n",
       "╲╱  8 - 2⋅x  "
      ]
     },
     "metadata": {},
     "output_type": "display_data"
    },
    {
     "data": {
      "text/latex": [
       "$\\displaystyle \\begin{cases} - \\frac{\\sqrt{2} i \\sqrt{x^{2} - 4}}{2} & \\text{for}\\: \\frac{\\left|{x^{2}}\\right|}{4} > 1 \\\\- \\frac{\\sqrt{2} \\sqrt{4 - x^{2}}}{2} & \\text{otherwise} \\end{cases}$"
      ],
      "text/plain": [
       "⎧         ________               \n",
       "⎪        ╱  2            │ 2│    \n",
       "⎪-√2⋅ⅈ⋅╲╱  x  - 4        │x │    \n",
       "⎪──────────────────  for ──── > 1\n",
       "⎪        2                4      \n",
       "⎨                                \n",
       "⎪        ________                \n",
       "⎪       ╱      2                 \n",
       "⎪ -√2⋅╲╱  4 - x                  \n",
       "⎪ ────────────────    otherwise  \n",
       "⎩        2                       "
      ]
     },
     "metadata": {},
     "output_type": "display_data"
    }
   ],
   "source": [
    "a8 = (x/(sqrt(8-2*x**2)))\n",
    "display(a8)\n",
    "display(integrate(a8))"
   ]
  },
  {
   "cell_type": "code",
   "execution_count": 6,
   "metadata": {},
   "outputs": [
    {
     "data": {
      "image/png": "[encoded data removed]",
      "text/latex": [
       "$\\displaystyle \\sin{\\left(5 x \\right)}$"
      ],
      "text/plain": [
       "sin(5⋅x)"
      ]
     },
     "metadata": {},
     "output_type": "display_data"
    },
    {
     "data": {
      "image/png": "[encoded data removed]",
      "text/latex": [
       "$\\displaystyle - \\frac{\\cos{\\left(5 x \\right)}}{5}$"
      ],
      "text/plain": [
       "-cos(5⋅x) \n",
       "──────────\n",
       "    5     "
      ]
     },
     "metadata": {},
     "output_type": "display_data"
    }
   ],
   "source": [
    "a10 = sin(5*x)\n",
    "display(a10)\n",
    "display(integrate(a10))"
   ]
  },
  {
   "cell_type": "code",
   "execution_count": 30,
   "metadata": {},
   "outputs": [
    {
     "data": {
      "image/png": "[encoded data removed]",
      "text/latex": [
       "$\\displaystyle \\frac{\\cos{\\left(x \\right)}}{\\sin^{3}{\\left(x \\right)}}$"
      ],
      "text/plain": [
       " cos(x)\n",
       "───────\n",
       "   3   \n",
       "sin (x)"
      ]
     },
     "metadata": {},
     "output_type": "display_data"
    },
    {
     "data": {
      "image/png": "[encoded data removed]",
      "text/latex": [
       "$\\displaystyle - \\frac{1}{2 \\sin^{2}{\\left(x \\right)}}$"
      ],
      "text/plain": [
       "   -1    \n",
       "─────────\n",
       "     2   \n",
       "2⋅sin (x)"
      ]
     },
     "metadata": {},
     "output_type": "display_data"
    }
   ],
   "source": [
    "a11 = cos(x)*(sin(x)**3)**-1\n",
    "display(a11)\n",
    "display(integrate(a11))"
   ]
  },
  {
   "cell_type": "code",
   "execution_count": 39,
   "metadata": {},
   "outputs": [
    {
     "data": {
      "image/png": "[encoded data removed]",
      "text/latex": [
       "$\\displaystyle \\tan^{6}{\\left(x \\right)} \\sec^{2}{\\left(x \\right)}$"
      ],
      "text/plain": [
       "   6       2   \n",
       "tan (x)⋅sec (x)"
      ]
     },
     "metadata": {},
     "output_type": "display_data"
    },
    {
     "data": {
      "image/png": "[encoded data removed]",
      "text/latex": [
       "$\\displaystyle - \\frac{\\sin{\\left(x \\right)}}{7 \\cos{\\left(x \\right)}} + \\frac{3 \\sin{\\left(x \\right)}}{7 \\cos^{3}{\\left(x \\right)}} - \\frac{3 \\sin{\\left(x \\right)}}{7 \\cos^{5}{\\left(x \\right)}} + \\frac{\\sin{\\left(x \\right)}}{7 \\cos^{7}{\\left(x \\right)}}$"
      ],
      "text/plain": [
       "   sin(x)     3⋅sin(x)    3⋅sin(x)     sin(x) \n",
       "- ──────── + ───────── - ───────── + ─────────\n",
       "  7⋅cos(x)        3           5           7   \n",
       "             7⋅cos (x)   7⋅cos (x)   7⋅cos (x)"
      ]
     },
     "metadata": {},
     "output_type": "display_data"
    },
    {
     "data": {
      "image/png": "[encoded data removed]",
      "text/latex": [
       "$\\displaystyle \\frac{\\tan^{7}{\\left(x \\right)}}{7}$"
      ],
      "text/plain": [
       "   7   \n",
       "tan (x)\n",
       "───────\n",
       "   7   "
      ]
     },
     "metadata": {},
     "output_type": "display_data"
    }
   ],
   "source": [
    "a12 = tan(x)**6 * sec(x)**2\n",
    "display(a12)\n",
    "res = integrate(a12)\n",
    "display(res)\n",
    "display(integrate(a12).simplify())"
   ]
  },
  {
   "cell_type": "code",
   "execution_count": 42,
   "metadata": {},
   "outputs": [
    {
     "data": {
      "image/png": "[encoded data removed]",
      "text/latex": [
       "$\\displaystyle 3 x^{2} - 1$"
      ],
      "text/plain": [
       "   2    \n",
       "3⋅x  - 1"
      ]
     },
     "execution_count": 42,
     "metadata": {},
     "output_type": "execute_result"
    }
   ],
   "source": [
    "(x**3-x).diff()"
   ]
  },
  {
   "cell_type": "code",
   "execution_count": null,
   "metadata": {},
   "outputs": [],
   "source": []
  }
 ],
 "metadata": {
  "kernelspec": {
   "display_name": "Python 3",
   "language": "python",
   "name": "python3"
  },
  "language_info": {
   "codemirror_mode": {
    "name": "ipython",
    "version": 3
   },
   "file_extension": ".py",
   "mimetype": "text/x-python",
   "name": "python",
   "nbconvert_exporter": "python",
   "pygments_lexer": "ipython3",
   "version": "3.8.5"
  }
 },
 "nbformat": 4,
 "nbformat_minor": 4
}
